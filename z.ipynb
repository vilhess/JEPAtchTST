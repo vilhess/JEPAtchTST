{
 "cells": [
  {
   "cell_type": "code",
   "execution_count": 13,
   "metadata": {},
   "outputs": [],
   "source": [
    "from models.base_model import PatchTrADencoder\n",
    "import yaml \n",
    "from types import SimpleNamespace\n",
    "from omegaconf import OmegaConf\n",
    "import torch"
   ]
  },
  {
   "cell_type": "code",
   "execution_count": 14,
   "metadata": {},
   "outputs": [],
   "source": [
    "config = yaml.load(open(\"conf/config.yaml\"), Loader=yaml.FullLoader)\n",
    "config = SimpleNamespace(**config)\n",
    "\n",
    "config = OmegaConf.merge(config.pretraining, config.base_encoder)"
   ]
  },
  {
   "cell_type": "code",
   "execution_count": 17,
   "metadata": {},
   "outputs": [
    {
     "data": {
      "text/plain": [
       "'../checkpoints/ts_jepa_vicreg'"
      ]
     },
     "execution_count": 17,
     "metadata": {},
     "output_type": "execute_result"
    }
   ],
   "source": [
    "config.save_path"
   ]
  },
  {
   "cell_type": "code",
   "execution_count": 18,
   "metadata": {},
   "outputs": [
    {
     "data": {
      "text/plain": [
       "<All keys matched successfully>"
      ]
     },
     "execution_count": 18,
     "metadata": {},
     "output_type": "execute_result"
    }
   ],
   "source": [
    "encoder = PatchTrADencoder(config)\n",
    "checkpoint_path = \"checkpoints/ts_jepa_vicreg\" + \"_\" + \"1\" + \".ckpt\"\n",
    "checkpoint = torch.load(checkpoint_path, weights_only=True)\n",
    "encoder.load_state_dict(checkpoint)"
   ]
  },
  {
   "cell_type": "code",
   "execution_count": 92,
   "metadata": {},
   "outputs": [
    {
     "data": {
      "text/plain": [
       "tensor([[[[ 0.0142,  0.2126, -0.4326,  ...,  0.0104,  0.0322,  0.0201],\n",
       "          [ 0.0131,  0.0150, -0.4326,  ...,  0.0103,  0.0464, -0.0178],\n",
       "          [ 0.0114,  0.1652, -0.4283,  ...,  0.0108,  0.0300,  0.0198],\n",
       "          ...,\n",
       "          [ 0.0141,  0.0150, -0.4292,  ...,  0.0103, -0.0162, -0.0182],\n",
       "          [ 0.0118,  0.2070,  0.0068,  ...,  0.0105,  0.0395,  0.0183],\n",
       "          [ 0.0150,  0.0149, -0.4224,  ...,  0.0105,  0.0368,  0.0167]]]],\n",
       "       grad_fn=<ViewBackward0>)"
      ]
     },
     "execution_count": 92,
     "metadata": {},
     "output_type": "execute_result"
    }
   ],
   "source": [
    "encoder(torch.randn(1, 128, 1))[1]"
   ]
  },
  {
   "cell_type": "code",
   "execution_count": null,
   "metadata": {},
   "outputs": [],
   "source": []
  }
 ],
 "metadata": {
  "kernelspec": {
   "display_name": "anots",
   "language": "python",
   "name": "python3"
  },
  "language_info": {
   "codemirror_mode": {
    "name": "ipython",
    "version": 3
   },
   "file_extension": ".py",
   "mimetype": "text/x-python",
   "name": "python",
   "nbconvert_exporter": "python",
   "pygments_lexer": "ipython3",
   "version": "3.11.10"
  }
 },
 "nbformat": 4,
 "nbformat_minor": 2
}
